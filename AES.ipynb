{
 "cells": [
  {
   "cell_type": "code",
   "execution_count": 301,
   "id": "suburban-edinburgh",
   "metadata": {},
   "outputs": [],
   "source": [
    "t2b = { \"f\": \"0000\",\n",
    "        \"g\": \"0001\",\n",
    "        \"h\": \"0010\",\n",
    "        \"i\": \"0011\",\n",
    "        \"j\": \"0100\",\n",
    "        \"k\": \"0101\",\n",
    "        \"l\": \"0110\",\n",
    "        \"m\": \"0111\",\n",
    "        \"n\": \"1000\",\n",
    "        \"o\": \"1001\",\n",
    "        \"p\": \"1010\",\n",
    "        \"q\": \"1011\",\n",
    "        \"r\": \"1100\",\n",
    "        \"s\": \"1101\",\n",
    "        \"t\": \"1110\",\n",
    "        \"u\": \"1111\" }\n",
    "\n",
    "b2t = { \"0000\": \"f\",\n",
    "        \"0001\": \"g\",\n",
    "        \"0010\": \"h\",\n",
    "        \"0011\": \"i\",\n",
    "        \"0100\": \"j\",\n",
    "        \"0101\": \"k\",\n",
    "        \"0110\": \"l\",\n",
    "        \"0111\": \"m\",\n",
    "        \"1000\": \"n\",\n",
    "        \"1001\": \"o\",\n",
    "        \"1010\": \"p\",\n",
    "        \"1011\": \"q\",\n",
    "        \"1100\": \"r\",\n",
    "        \"1101\": \"s\",\n",
    "        \"1110\": \"t\",\n",
    "        \"1111\": \"u\" }\n",
    "\n",
    "def text2bin(text):\n",
    "    s = \"\"\n",
    "    for c in text:\n",
    "        s = s + t2b[c]\n",
    "    return s\n",
    "\n",
    "def bin2text(text):\n",
    "    s = \"\"\n",
    "    for i in range(len(text)//4):\n",
    "        s = s + b2t[text[4*i:4*i+4]]\n",
    "    return s\n",
    "\n",
    "exp_store = [[-1]*128 for i in range(128)]\n",
    "mul_store = [[-1]*128 for i in range(128)]\n",
    "\n",
    "def add(num1, num2):\n",
    "    return int(num1) ^ int(num2)\n",
    "\n",
    "def mult(num1, num2):\n",
    "    if mul_store[num1][num2] != -1:\n",
    "        return mul_store[num1][num2]\n",
    "    num1 = int(num1)\n",
    "    num2 = int(num2)\n",
    "    num3 = 0\n",
    "    ind = 0\n",
    "    for ind in range(7):\n",
    "        if (num1 & (1<<ind)):\n",
    "            num3 = add(num3, num2 << ind)\n",
    "    upper = num3 >> 7\n",
    "    product = add(add(upper, upper<<1), num3 & 127)\n",
    "    mul_store[num1][num2] = product\n",
    "    mul_store[num2][num1] = product\n",
    "    return product\n",
    "\n",
    "def expo(no, p):\n",
    "    if(exp_store[no][p]) != -1:\n",
    "        return exp_store[no][p]\n",
    "    ans = 0\n",
    "    if p == 0:\n",
    "        ans = 1\n",
    "    elif p == 1:\n",
    "        ans = no\n",
    "    elif p%2 == 0:\n",
    "        ans = mult(expo(no, p//2), expo(no, p//2))\n",
    "    else:\n",
    "        ans = mult(no, mult(expo(no, p//2), expo(no, p//2)))\n",
    "    exp_store[no][p] = ans\n",
    "    return ans\n",
    "\n",
    "def addVectors(v1, v2):\n",
    "    ans = [0]*len(v1)\n",
    "    for i in range(len(v1)):\n",
    "        ans[i] = add(v1[i], v2[i])\n",
    "    return ans\n",
    "\n",
    "def dotProd(v1, v2):\n",
    "    ans = 0\n",
    "    for i in range(len(v1)):\n",
    "        ans = add(ans, mult(v1[i], v2[i]))\n",
    "    return ans\n",
    "\n",
    "def matrixProd(mat, v):\n",
    "    result = [0]*len(v)\n",
    "    for i in range(len(v)):\n",
    "        result[i] = dotProd(mat[i], v)\n",
    "    return result"
   ]
  },
  {
   "cell_type": "code",
   "execution_count": 302,
   "id": "congressional-communications",
   "metadata": {},
   "outputs": [
    {
     "name": "stdout",
     "output_type": "stream",
     "text": [
      "fffffffffffffffffgfffffffffffffffhfffffffffffffffifffffffffffffffjfffffffffffffffkffffffffffffffflfffffffffffffffmfffffffffffffffnfffffffffffffffofffffffffffffffpfffffffffffffffqfffffffffffffffrfffffffffffffffsffffffffffffffftfffffffffffffffuffffffffffffffgfffffffffffffffggffffffffffffffghffffffffffffffgiffffffffffffffgjffffffffffffffgkffffffffffffffglffffffffffffffgmffffffffffffffgnffffffffffffffgoffffffffffffffgpffffffffffffffgqffffffffffffffgrffffffffffffffgsffffffffffffffgtffffffffffffffguffffffffffffffhfffffffffffffffhgffffffffffffffhhffffffffffffffhiffffffffffffffhjffffffffffffffhkffffffffffffffhlffffffffffffffhmffffffffffffffhnffffffffffffffhoffffffffffffffhpffffffffffffffhqffffffffffffffhrffffffffffffffhsffffffffffffffhtffffffffffffffhuffffffffffffffifffffffffffffffigffffffffffffffihffffffffffffffiiffffffffffffffijffffffffffffffikffffffffffffffilffffffffffffffimffffffffffffffinffffffffffffffioffffffffffffffipffffffffffffffiqffffffffffffffirffffffffffffffisffffffffffffffitffffffffffffffiuffffffffffffffjfffffffffffffffjgffffffffffffffjhffffffffffffffjiffffffffffffffjjffffffffffffffjkffffffffffffffjlffffffffffffffjmffffffffffffffjnffffffffffffffjoffffffffffffffjpffffffffffffffjqffffffffffffffjrffffffffffffffjsffffffffffffffjtffffffffffffffjuffffffffffffffkfffffffffffffffkgffffffffffffffkhffffffffffffffkiffffffffffffffkjffffffffffffffkkffffffffffffffklffffffffffffffkmffffffffffffffknffffffffffffffkoffffffffffffffkpffffffffffffffkqffffffffffffffkrffffffffffffffksffffffffffffffktffffffffffffffkufffffffffffffflffffffffffffffflgfffffffffffffflhffffffffffffffliffffffffffffffljfffffffffffffflkffffffffffffffllfffffffffffffflmfffffffffffffflnfffffffffffffflofffffffffffffflpfffffffffffffflqfffffffffffffflrfffffffffffffflsffffffffffffffltffffffffffffffluffffffffffffffmfffffffffffffffmgffffffffffffffmhffffffffffffffmiffffffffffffffmjffffffffffffffmkffffffffffffffmlffffffffffffffmmffffffffffffffmnffffffffffffffmoffffffffffffffmpffffffffffffffmqffffffffffffffmrffffffffffffffmsffffffffffffffmtffffffffffffffmuffffffffffffff\n",
      "fffffffffffffffffffgfffffffffffffffhfffffffffffffffifffffffffffffffjfffffffffffffffkffffffffffffffflfffffffffffffffmfffffffffffffffnfffffffffffffffofffffffffffffffpfffffffffffffffqfffffffffffffffrfffffffffffffffsffffffffffffffftfffffffffffffffuffffffffffffffgfffffffffffffffggffffffffffffffghffffffffffffffgiffffffffffffffgjffffffffffffffgkffffffffffffffglffffffffffffffgmffffffffffffffgnffffffffffffffgoffffffffffffffgpffffffffffffffgqffffffffffffffgrffffffffffffffgsffffffffffffffgtffffffffffffffguffffffffffffffhfffffffffffffffhgffffffffffffffhhffffffffffffffhiffffffffffffffhjffffffffffffffhkffffffffffffffhlffffffffffffffhmffffffffffffffhnffffffffffffffhoffffffffffffffhpffffffffffffffhqffffffffffffffhrffffffffffffffhsffffffffffffffhtffffffffffffffhuffffffffffffffifffffffffffffffigffffffffffffffihffffffffffffffiiffffffffffffffijffffffffffffffikffffffffffffffilffffffffffffffimffffffffffffffinffffffffffffffioffffffffffffffipffffffffffffffiqffffffffffffffirffffffffffffffisffffffffffffffitffffffffffffffiuffffffffffffffjfffffffffffffffjgffffffffffffffjhffffffffffffffjiffffffffffffffjjffffffffffffffjkffffffffffffffjlffffffffffffffjmffffffffffffffjnffffffffffffffjoffffffffffffffjpffffffffffffffjqffffffffffffffjrffffffffffffffjsffffffffffffffjtffffffffffffffjuffffffffffffffkfffffffffffffffkgffffffffffffffkhffffffffffffffkiffffffffffffffkjffffffffffffffkkffffffffffffffklffffffffffffffkmffffffffffffffknffffffffffffffkoffffffffffffffkpffffffffffffffkqffffffffffffffkrffffffffffffffksffffffffffffffktffffffffffffffkufffffffffffffflffffffffffffffflgfffffffffffffflhffffffffffffffliffffffffffffffljfffffffffffffflkffffffffffffffllfffffffffffffflmfffffffffffffflnfffffffffffffflofffffffffffffflpfffffffffffffflqfffffffffffffflrfffffffffffffflsffffffffffffffltffffffffffffffluffffffffffffffmfffffffffffffffmgffffffffffffffmhffffffffffffffmiffffffffffffffmjffffffffffffffmkffffffffffffffmlffffffffffffffmmffffffffffffffmnffffffffffffffmoffffffffffffffmpffffffffffffffmqffffffffffffffmrffffffffffffffmsffffffffffffffmtffffffffffffffmuffffffffffff\n",
      "fffffffffffffffffffffgfffffffffffffffhfffffffffffffffifffffffffffffffjfffffffffffffffkffffffffffffffflfffffffffffffffmfffffffffffffffnfffffffffffffffofffffffffffffffpfffffffffffffffqfffffffffffffffrfffffffffffffffsffffffffffffffftfffffffffffffffuffffffffffffffgfffffffffffffffggffffffffffffffghffffffffffffffgiffffffffffffffgjffffffffffffffgkffffffffffffffglffffffffffffffgmffffffffffffffgnffffffffffffffgoffffffffffffffgpffffffffffffffgqffffffffffffffgrffffffffffffffgsffffffffffffffgtffffffffffffffguffffffffffffffhfffffffffffffffhgffffffffffffffhhffffffffffffffhiffffffffffffffhjffffffffffffffhkffffffffffffffhlffffffffffffffhmffffffffffffffhnffffffffffffffhoffffffffffffffhpffffffffffffffhqffffffffffffffhrffffffffffffffhsffffffffffffffhtffffffffffffffhuffffffffffffffifffffffffffffffigffffffffffffffihffffffffffffffiiffffffffffffffijffffffffffffffikffffffffffffffilffffffffffffffimffffffffffffffinffffffffffffffioffffffffffffffipffffffffffffffiqffffffffffffffirffffffffffffffisffffffffffffffitffffffffffffffiuffffffffffffffjfffffffffffffffjgffffffffffffffjhffffffffffffffjiffffffffffffffjjffffffffffffffjkffffffffffffffjlffffffffffffffjmffffffffffffffjnffffffffffffffjoffffffffffffffjpffffffffffffffjqffffffffffffffjrffffffffffffffjsffffffffffffffjtffffffffffffffjuffffffffffffffkfffffffffffffffkgffffffffffffffkhffffffffffffffkiffffffffffffffkjffffffffffffffkkffffffffffffffklffffffffffffffkmffffffffffffffknffffffffffffffkoffffffffffffffkpffffffffffffffkqffffffffffffffkrffffffffffffffksffffffffffffffktffffffffffffffkufffffffffffffflffffffffffffffflgfffffffffffffflhffffffffffffffliffffffffffffffljfffffffffffffflkffffffffffffffllfffffffffffffflmfffffffffffffflnfffffffffffffflofffffffffffffflpfffffffffffffflqfffffffffffffflrfffffffffffffflsffffffffffffffltffffffffffffffluffffffffffffffmfffffffffffffffmgffffffffffffffmhffffffffffffffmiffffffffffffffmjffffffffffffffmkffffffffffffffmlffffffffffffffmmffffffffffffffmnffffffffffffffmoffffffffffffffmpffffffffffffffmqffffffffffffffmrffffffffffffffmsffffffffffffffmtffffffffffffffmuffffffffff\n",
      "fffffffffffffffffffffffgfffffffffffffffhfffffffffffffffifffffffffffffffjfffffffffffffffkffffffffffffffflfffffffffffffffmfffffffffffffffnfffffffffffffffofffffffffffffffpfffffffffffffffqfffffffffffffffrfffffffffffffffsffffffffffffffftfffffffffffffffuffffffffffffffgfffffffffffffffggffffffffffffffghffffffffffffffgiffffffffffffffgjffffffffffffffgkffffffffffffffglffffffffffffffgmffffffffffffffgnffffffffffffffgoffffffffffffffgpffffffffffffffgqffffffffffffffgrffffffffffffffgsffffffffffffffgtffffffffffffffguffffffffffffffhfffffffffffffffhgffffffffffffffhhffffffffffffffhiffffffffffffffhjffffffffffffffhkffffffffffffffhlffffffffffffffhmffffffffffffffhnffffffffffffffhoffffffffffffffhpffffffffffffffhqffffffffffffffhrffffffffffffffhsffffffffffffffhtffffffffffffffhuffffffffffffffifffffffffffffffigffffffffffffffihffffffffffffffiiffffffffffffffijffffffffffffffikffffffffffffffilffffffffffffffimffffffffffffffinffffffffffffffioffffffffffffffipffffffffffffffiqffffffffffffffirffffffffffffffisffffffffffffffitffffffffffffffiuffffffffffffffjfffffffffffffffjgffffffffffffffjhffffffffffffffjiffffffffffffffjjffffffffffffffjkffffffffffffffjlffffffffffffffjmffffffffffffffjnffffffffffffffjoffffffffffffffjpffffffffffffffjqffffffffffffffjrffffffffffffffjsffffffffffffffjtffffffffffffffjuffffffffffffffkfffffffffffffffkgffffffffffffffkhffffffffffffffkiffffffffffffffkjffffffffffffffkkffffffffffffffklffffffffffffffkmffffffffffffffknffffffffffffffkoffffffffffffffkpffffffffffffffkqffffffffffffffkrffffffffffffffksffffffffffffffktffffffffffffffkufffffffffffffflffffffffffffffflgfffffffffffffflhffffffffffffffliffffffffffffffljfffffffffffffflkffffffffffffffllfffffffffffffflmfffffffffffffflnfffffffffffffflofffffffffffffflpfffffffffffffflqfffffffffffffflrfffffffffffffflsffffffffffffffltffffffffffffffluffffffffffffffmfffffffffffffffmgffffffffffffffmhffffffffffffffmiffffffffffffffmjffffffffffffffmkffffffffffffffmlffffffffffffffmmffffffffffffffmnffffffffffffffmoffffffffffffffmpffffffffffffffmqffffffffffffffmrffffffffffffffmsffffffffffffffmtffffffffffffffmuffffffff\n",
      "fffffffffffffffffffffffffgfffffffffffffffhfffffffffffffffifffffffffffffffjfffffffffffffffkffffffffffffffflfffffffffffffffmfffffffffffffffnfffffffffffffffofffffffffffffffpfffffffffffffffqfffffffffffffffrfffffffffffffffsffffffffffffffftfffffffffffffffuffffffffffffffgfffffffffffffffggffffffffffffffghffffffffffffffgiffffffffffffffgjffffffffffffffgkffffffffffffffglffffffffffffffgmffffffffffffffgnffffffffffffffgoffffffffffffffgpffffffffffffffgqffffffffffffffgrffffffffffffffgsffffffffffffffgtffffffffffffffguffffffffffffffhfffffffffffffffhgffffffffffffffhhffffffffffffffhiffffffffffffffhjffffffffffffffhkffffffffffffffhlffffffffffffffhmffffffffffffffhnffffffffffffffhoffffffffffffffhpffffffffffffffhqffffffffffffffhrffffffffffffffhsffffffffffffffhtffffffffffffffhuffffffffffffffifffffffffffffffigffffffffffffffihffffffffffffffiiffffffffffffffijffffffffffffffikffffffffffffffilffffffffffffffimffffffffffffffinffffffffffffffioffffffffffffffipffffffffffffffiqffffffffffffffirffffffffffffffisffffffffffffffitffffffffffffffiuffffffffffffffjfffffffffffffffjgffffffffffffffjhffffffffffffffjiffffffffffffffjjffffffffffffffjkffffffffffffffjlffffffffffffffjmffffffffffffffjnffffffffffffffjoffffffffffffffjpffffffffffffffjqffffffffffffffjrffffffffffffffjsffffffffffffffjtffffffffffffffjuffffffffffffffkfffffffffffffffkgffffffffffffffkhffffffffffffffkiffffffffffffffkjffffffffffffffkkffffffffffffffklffffffffffffffkmffffffffffffffknffffffffffffffkoffffffffffffffkpffffffffffffffkqffffffffffffffkrffffffffffffffksffffffffffffffktffffffffffffffkufffffffffffffflffffffffffffffflgfffffffffffffflhffffffffffffffliffffffffffffffljfffffffffffffflkffffffffffffffllfffffffffffffflmfffffffffffffflnfffffffffffffflofffffffffffffflpfffffffffffffflqfffffffffffffflrfffffffffffffflsffffffffffffffltffffffffffffffluffffffffffffffmfffffffffffffffmgffffffffffffffmhffffffffffffffmiffffffffffffffmjffffffffffffffmkffffffffffffffmlffffffffffffffmmffffffffffffffmnffffffffffffffmoffffffffffffffmpffffffffffffffmqffffffffffffffmrffffffffffffffmsffffffffffffffmtffffffffffffffmuffffff\n",
      "fffffffffffffffffffffffffffgfffffffffffffffhfffffffffffffffifffffffffffffffjfffffffffffffffkffffffffffffffflfffffffffffffffmfffffffffffffffnfffffffffffffffofffffffffffffffpfffffffffffffffqfffffffffffffffrfffffffffffffffsffffffffffffffftfffffffffffffffuffffffffffffffgfffffffffffffffggffffffffffffffghffffffffffffffgiffffffffffffffgjffffffffffffffgkffffffffffffffglffffffffffffffgmffffffffffffffgnffffffffffffffgoffffffffffffffgpffffffffffffffgqffffffffffffffgrffffffffffffffgsffffffffffffffgtffffffffffffffguffffffffffffffhfffffffffffffffhgffffffffffffffhhffffffffffffffhiffffffffffffffhjffffffffffffffhkffffffffffffffhlffffffffffffffhmffffffffffffffhnffffffffffffffhoffffffffffffffhpffffffffffffffhqffffffffffffffhrffffffffffffffhsffffffffffffffhtffffffffffffffhuffffffffffffffifffffffffffffffigffffffffffffffihffffffffffffffiiffffffffffffffijffffffffffffffikffffffffffffffilffffffffffffffimffffffffffffffinffffffffffffffioffffffffffffffipffffffffffffffiqffffffffffffffirffffffffffffffisffffffffffffffitffffffffffffffiuffffffffffffffjfffffffffffffffjgffffffffffffffjhffffffffffffffjiffffffffffffffjjffffffffffffffjkffffffffffffffjlffffffffffffffjmffffffffffffffjnffffffffffffffjoffffffffffffffjpffffffffffffffjqffffffffffffffjrffffffffffffffjsffffffffffffffjtffffffffffffffjuffffffffffffffkfffffffffffffffkgffffffffffffffkhffffffffffffffkiffffffffffffffkjffffffffffffffkkffffffffffffffklffffffffffffffkmffffffffffffffknffffffffffffffkoffffffffffffffkpffffffffffffffkqffffffffffffffkrffffffffffffffksffffffffffffffktffffffffffffffkufffffffffffffflffffffffffffffflgfffffffffffffflhffffffffffffffliffffffffffffffljfffffffffffffflkffffffffffffffllfffffffffffffflmfffffffffffffflnfffffffffffffflofffffffffffffflpfffffffffffffflqfffffffffffffflrfffffffffffffflsffffffffffffffltffffffffffffffluffffffffffffffmfffffffffffffffmgffffffffffffffmhffffffffffffffmiffffffffffffffmjffffffffffffffmkffffffffffffffmlffffffffffffffmmffffffffffffffmnffffffffffffffmoffffffffffffffmpffffffffffffffmqffffffffffffffmrffffffffffffffmsffffffffffffffmtffffffffffffffmuffff\n",
      "fffffffffffffffffffffffffffffgfffffffffffffffhfffffffffffffffifffffffffffffffjfffffffffffffffkffffffffffffffflfffffffffffffffmfffffffffffffffnfffffffffffffffofffffffffffffffpfffffffffffffffqfffffffffffffffrfffffffffffffffsffffffffffffffftfffffffffffffffuffffffffffffffgfffffffffffffffggffffffffffffffghffffffffffffffgiffffffffffffffgjffffffffffffffgkffffffffffffffglffffffffffffffgmffffffffffffffgnffffffffffffffgoffffffffffffffgpffffffffffffffgqffffffffffffffgrffffffffffffffgsffffffffffffffgtffffffffffffffguffffffffffffffhfffffffffffffffhgffffffffffffffhhffffffffffffffhiffffffffffffffhjffffffffffffffhkffffffffffffffhlffffffffffffffhmffffffffffffffhnffffffffffffffhoffffffffffffffhpffffffffffffffhqffffffffffffffhrffffffffffffffhsffffffffffffffhtffffffffffffffhuffffffffffffffifffffffffffffffigffffffffffffffihffffffffffffffiiffffffffffffffijffffffffffffffikffffffffffffffilffffffffffffffimffffffffffffffinffffffffffffffioffffffffffffffipffffffffffffffiqffffffffffffffirffffffffffffffisffffffffffffffitffffffffffffffiuffffffffffffffjfffffffffffffffjgffffffffffffffjhffffffffffffffjiffffffffffffffjjffffffffffffffjkffffffffffffffjlffffffffffffffjmffffffffffffffjnffffffffffffffjoffffffffffffffjpffffffffffffffjqffffffffffffffjrffffffffffffffjsffffffffffffffjtffffffffffffffjuffffffffffffffkfffffffffffffffkgffffffffffffffkhffffffffffffffkiffffffffffffffkjffffffffffffffkkffffffffffffffklffffffffffffffkmffffffffffffffknffffffffffffffkoffffffffffffffkpffffffffffffffkqffffffffffffffkrffffffffffffffksffffffffffffffktffffffffffffffkufffffffffffffflffffffffffffffflgfffffffffffffflhffffffffffffffliffffffffffffffljfffffffffffffflkffffffffffffffllfffffffffffffflmfffffffffffffflnfffffffffffffflofffffffffffffflpfffffffffffffflqfffffffffffffflrfffffffffffffflsffffffffffffffltffffffffffffffluffffffffffffffmfffffffffffffffmgffffffffffffffmhffffffffffffffmiffffffffffffffmjffffffffffffffmkffffffffffffffmlffffffffffffffmmffffffffffffffmnffffffffffffffmoffffffffffffffmpffffffffffffffmqffffffffffffffmrffffffffffffffmsffffffffffffffmtffffffffffffffmuff\n",
      "fffffffffffffffffffffffffffffffgfffffffffffffffhfffffffffffffffifffffffffffffffjfffffffffffffffkffffffffffffffflfffffffffffffffmfffffffffffffffnfffffffffffffffofffffffffffffffpfffffffffffffffqfffffffffffffffrfffffffffffffffsffffffffffffffftfffffffffffffffuffffffffffffffgfffffffffffffffggffffffffffffffghffffffffffffffgiffffffffffffffgjffffffffffffffgkffffffffffffffglffffffffffffffgmffffffffffffffgnffffffffffffffgoffffffffffffffgpffffffffffffffgqffffffffffffffgrffffffffffffffgsffffffffffffffgtffffffffffffffguffffffffffffffhfffffffffffffffhgffffffffffffffhhffffffffffffffhiffffffffffffffhjffffffffffffffhkffffffffffffffhlffffffffffffffhmffffffffffffffhnffffffffffffffhoffffffffffffffhpffffffffffffffhqffffffffffffffhrffffffffffffffhsffffffffffffffhtffffffffffffffhuffffffffffffffifffffffffffffffigffffffffffffffihffffffffffffffiiffffffffffffffijffffffffffffffikffffffffffffffilffffffffffffffimffffffffffffffinffffffffffffffioffffffffffffffipffffffffffffffiqffffffffffffffirffffffffffffffisffffffffffffffitffffffffffffffiuffffffffffffffjfffffffffffffffjgffffffffffffffjhffffffffffffffjiffffffffffffffjjffffffffffffffjkffffffffffffffjlffffffffffffffjmffffffffffffffjnffffffffffffffjoffffffffffffffjpffffffffffffffjqffffffffffffffjrffffffffffffffjsffffffffffffffjtffffffffffffffjuffffffffffffffkfffffffffffffffkgffffffffffffffkhffffffffffffffkiffffffffffffffkjffffffffffffffkkffffffffffffffklffffffffffffffkmffffffffffffffknffffffffffffffkoffffffffffffffkpffffffffffffffkqffffffffffffffkrffffffffffffffksffffffffffffffktffffffffffffffkufffffffffffffflffffffffffffffflgfffffffffffffflhffffffffffffffliffffffffffffffljfffffffffffffflkffffffffffffffllfffffffffffffflmfffffffffffffflnfffffffffffffflofffffffffffffflpfffffffffffffflqfffffffffffffflrfffffffffffffflsffffffffffffffltffffffffffffffluffffffffffffffmfffffffffffffffmgffffffffffffffmhffffffffffffffmiffffffffffffffmjffffffffffffffmkffffffffffffffmlffffffffffffffmmffffffffffffffmnffffffffffffffmoffffffffffffffmpffffffffffffffmqffffffffffffffmrffffffffffffffmsffffffffffffffmtffffffffffffffmu\n"
     ]
    }
   ],
   "source": [
    "inputs = []\n",
    "outputs = []\n",
    "\n",
    "for i in range(8):\n",
    "    t = \"\"\n",
    "    l = []\n",
    "    for j in range(128):\n",
    "        s = \"ff\"*i + bin2text(format(j, '08b')) + \"ff\"*(7-i)\n",
    "        t = t + s\n",
    "        l.append(s)\n",
    "    print(t)\n",
    "    inputs.append(l)\n",
    "#print(inputs)        "
   ]
  },
  {
   "cell_type": "code",
   "execution_count": 303,
   "id": "foster-chapel",
   "metadata": {},
   "outputs": [],
   "source": [
    "o1 = \"ffffffffffffffffjiluggknjomijfjkfkkhhnighlmhkjmpjlkilflsfuggiqmrfpmqjfguksgrmjlgjohnhhiihffrjqflfuirlqfqfijjgfltjrlifpipllgskgmggjhshrihkqhljokskmijgflsmilolmjiggfkmjfjhghqfijlkhklmofnmqgglnhugtjrffjjfkgnltjmksklishqjpghlqmngqmjipirjugfmjgkknggfkjjjufpiiikhnflmljjmglohohulqflflkrkjfijnfkhsitgilsmhgmkslsltgqfggqljhngsjjhhgkfigoikfmgiijlgkllsikjimqkqkshmltmmgjlhkqmrlpljlkfjmgikmnkqfjiriljmfrlnfiknltmufqfommmnmlgfkmiohlknjsfpjqipmgmphrhthpfglsithnilfpmulllnlufsfkmklpllhmfphphijsiihifugpjtgtgogrmfmpmpkijrjpflgpkfkqljgulnholrjlgiifmjinlpktikmskkhtingjfjhjmnluglgjjukojijtlfmokpghkjmomlfigghjgoifhpgljlllklfukughmofkmpltlnlqgrjmhrgplfktlqfsjjhfmuhukohoitggfmijfgfsgsksfkhkjghokofrhglpijlufhmhfnhklgmhgjlgjtmlkihfknkqltmnfshofninhthgghjhjqkulolkfilkjriffnijkgfgjmhfhnjgmnmiillgihhqhmlkiqmfhtjjgimnhuhjmshqjmjpmgknjfjnitjnjlllmsluifijmhlqipgrkghpkmfliggniimfgjmtmujfmmkmlrlrkkfgkkifijhrlqfthlkojgmslrjqjmhlkflkjrfphujifrmimlgsimhrlomhmfifkmhsitkjhpkimjmgjghhimgullislogpgqhkjtfqhkmhhrjmlimnmklslimulqimfsmpftfnhfgrijljfpgukrmrhilshrkrfujrgnknlfhomjkrgqfpisishligfqmlfjinflillkisiphhigmgfhkmhomuingmhqliiojmlpgolnljhilfluhshrfmghifmolfjnmfluhlllkjgqfqjsisimihgulnftiofsfqmjikmmmijofpliftihmimrllfhlnkqjomgkimogfgqirlokhismjjgilmpfikugkmtlmilfqjmikhkhtinjjhpjmkrlrkflpmqgqkokgjtfkhfgkfqmngmlmkhgshrhpjnksmhfjmtjjhukgftfkhujsfukogugtjslglfhnhrkripkjfghrgofglojhgmfqjhjphhmnigifhfjnfjfkjsitlfhjlomkjmmmfgkpkhinffikgufmlqfmhfhkllmtkrfsjnlthnfthpktgpmklkghmphjlmfhkoilkjiufliikniogkhpmlkqjnfrgoliklgkkoilmrflfghmgfmujrkgjpifksmmkilhjpgnkqhujolomikjjsirhrjokfififhsgmgnfjfifsjimljommfqkhgrmfiriklnmuiolljrhiknmoffltjimolllqkqipfmhnifjhmpkifomrgqhjgniuithskiiuhuljlikkfimshjlmkpgnmkmthkiiithjioglhkfpjsjrhllhmgiphkltgljiilhghhmlklliklkmlslsghktluhqfpmkhshtmjgijkjjmmfojglnhsjlhmlsijjsmshqiikffrmujgikhmkqflkqmtfiiqggmigngkmufhjrfrisftktmpglkgfjlrgfmqgsilfffqfilojsftkgmrktfpmmmmfgfpghhjhkjrltlmghhgkjmtkfilflkulnjsgmjshijmlilrmumujuhlgrhhhsgkjgksfrfilmmulojfmrmsjpfnhmlrkpkgmuknfoisltfkjslqgtmujkmiihhpjqmlkfjjflmplikpkqgqhumfjfifisgmjgfslmjofifrlqfgifjohfjh\"\n",
    "o2 = \"ffffffffffffffffffiohtkkhuhtmghkffiqmhiklofuiujqffkmjlkimjfljhfnffjpjmlmilipgtmrffitlqhfmrfifmfkfflrkgfimjhnjfgtfffifmhoklfumkmrffijiufumsgqlgkmfflmfqmgmrfoljhgffkhkmkjitfkkhftffjslifkkffolmhpffhlgukkgmfgmjkkfflgmihnmilglikmfffnmgfjijkfkqiuffjlkjkujrlfgthifflhjrgrjilpftmiffiukhglilfrhiisfflufsknfrhjhjjrfffslrmrmqlhfmipffmjktfkgglqfkkiffjukgmfhomljrkkffksgthtkqjkjnkgffgmkpiijsiolokiffghipkjfqgrhtkiffkggrhrkillmmjkffmugnmlgrhkgghgffkpjnlglmjohgggffjgmkmfmnhthohfffimjqkijofmlofpffgjipktlkihmmjiffhoinhlhmmsfqlhffmmiglflhjpkrlqfffpkohpkslpismkffhqktitmumtimmiffggfnkhhpmhlflpffhtltlpfsmnfljqffmhjokhhpfliihtffkohjijiijikkjnffmkkjgshujllqhtffllfpfgmhfujqhoffingnmoljlsjmirffhrfuffhpingsfjffmijjitjhillqjoffkrkfhfjrlhgrlpffmqgfgtlmmnhglqfflnfpmkkhgsfnksffhnifjmijiighjfffmfmpfglqkullirffgnfmhpfkmmkpgoffmrkumhkglshpfqffgpjnkrhpgthtfrffhuilmkishlgskkffjkhjktjflrjhmfffiklqkpkrktjojrffkkmtgohumuipjnffmskfmriflolijtffjrjpiqgmhrmjlrfflpkkigjlmflkkufflskpkthfljhpjqfflflpholrghmikoffjjmlgmlhhmlhkmffipfuihhijrifimfffrlrmlkglulhfjffltjlhrhgfpktgqffgoffgkhohtjkifffiffqiujtfjimjpfflokmljmrfnhqikffjqigithhfhkihnffljiljhjtimmiljffmngjlshhkklligfffjgjkfhqiufhkhffkiiukfgkjolghkffmolilkfqkmfqmqffmlmhliiqmngkkqfflqhthikugumnhuffiskhirkqkslshpfffthofggplrgfjhffguhohhmjfkfpirffmpfninkjkuifisffglgulllmisltipffhigilillknflgqffjhhugumuhmiigjffihkufplighgllgffhhjoklmninhnjlfffoknlkirgsmujqfffulsipkrmmksjsffhglskhjumfgqkpffhkgfgifgjojshpfffkgigiftgkknhrffjtjmhuggmfmthqffjnhujtktkggminffjmltilglknfikiffkqmljuksgqllkoffjimilqfqjpkskuffknknlsggfnkugffffmmgjumjfqktjoffgkmkifjogkmmmmffjfmsiihpguipjgffkjmplpfqkqmqkiffhmkoinhgfghukifffgimkulijkhpfnffigiomllljkhnlgffliimmfjkhjhrhhffhpmsflkrkqjokqffirhlkjkfmlkqfjffgrkkfkiuktiqggffgihlikloiiiilgffgqjrljkughjrmgffkfiohojjfjkrkrffgsjqmojoighhmjffhsfsghkqkoirmkffktlkiiigfpmmliffklifkplnfqlljqffhjhmksfuhmfjkmffgfjjiojmjqjkgkffiljgkqgikuhljjffjojpfjhoiojrgsffkulhfmfjismikoffgtjggllffjkhluffflmthhlqmjhihiffmtlpluhfmfhljqfflkhmlmhglohhggfffqlkiqllfsjohjffiigtlkkqgfkoimffmggrijkqmpggmhffhfinfkihkihihlfffhlhlofqhqjglr\"\n",
    "o3 = \"ffffffffffffffffffffhffrilhfingpffffmggikshrhjlhffffkmkqlqgnlrmoffffklkjfljghjigffffjlfjifmgjgmoffffhljjkqklhlilffffhjfflsijmngiffffgogqmjijmogkfffffrhhjhhgihmffffflfilhofqhmmpffffifggguitjtmgffffmfgfmhmsfigoffffguhsjjjlglgiffffftjfhulolslnffffgpgugohkiiksffffiqmklrhgfjjgffffiimukpmughjjfffffhhligjmmhmrffffiohifmitmklpffffgfkulpjigflffffflglgkrghkgmmfffffnhlimjjigmnffffktgsfgljgoirfffflokugnjrgmiqffffjjhlhtkgmngfffffipfmjkhufrlkffffltimmifrkrfrffffmrhrgtgrmokqffffisfghnjmmnhpffffmplijijhhfihffffgnkgmkhmiofrffffijhoiogpiikqffffkugufumskrhhffffjoljljfmkmigffffjslnkhmhkrjsffffmthuiughmjihfffffilkfommjpmfffffjpfnlhlnkggqfffflkjpkjlrlklfffffmohmjsiokiloffffkkmgmqlullgfffffhuhqgfjjipifffffmlgjhlmthjlnffffmsjjjqlffflnffffmnknmsfohgluffffljjmglmhjokffffflshrhflnioipffffkhgmkkiikkmhffffilkulihpipkfffffgtltfniihpjlfffflmhgitjufihsfffffqirkilljrlsffffitfhlkjolkgifffflripftlkjhljffffflmoinholmiqfffflqgkhgkohrhlffffjklpgmhukskrffffikjlmrhhlgltffffkilfjpjummlofffflpjfhmhhiqkuffffjqigggimktfgfffffjmgmpgpjnmiffffjrmojrfikkgoffffmmhsfrluijliffffjijfipfklsipffffkqjikgltiphpffffgglrlmfpjfgiffffhifpfpgijuluffffhnktirgoijhmffffkrfukmfujugtffffjhhhlglifgmqffffgklgmnmjkkhsffffhokljtmlirhnffffjgjhhkhkmiftffffjffogighjpgtfffflhhrmtkokphrffffgsgijnlqfpirffffkfhlhilugfkpfffffsfhgkiqlnloffffhqirlfjjhlghffffjmjfklmugtliffffknigisjqjlhofffffpiffqfjiigfffffihmlllgqjgfpffffmqmqkfhumkinfffflnijiqmqfqfqffffglhnfsmfjtgnffffkjkogjiskpltffffimkrhhmmgoluffffgjinjohslkmqfffffmggmufhkmflfffflumighgmhifoffffgqfmhjgtmfgqffffhsfmjuiqmilpffffiujsmohhfgjufffflljnikjqfijnfffffujgfijninhifffffokulniqjhlkffffmiloktfsjohifffffkhuiihtffiuffffmkjhfkjlmnmrffffhtjjltjokphsffffjtgoknkhgtlhffffirlhjgmhgsjtffffgmhqmmkiihmsffffmjmsgrmtgtlhffffgrhnhpgqjqjmffffghjjjmljjqirffffigmjmgikgfhrfffffgjogpmliujsffffkpjihrkkmifpffffhrigkofpjhipffffhhitlulgljhnffffhgjqfjkrjqmoffffinkhihmnjnilffffjnfpkulhhqihffffmhiglojqgnmsffffkollfhffllhtffffhkloijkmkfihffffgimkhsillfkuffffjugfgqligoiiffffksitmffoftfrffffhphrjlingkffffffmukphqfhhrgpffffhmimgsihfjhufffflifmmlggfsmiffffkgihjfiqmnhq\"\n",
    "o4 = \"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\"\n",
    "o5 = \"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\"\n",
    "o6 = \"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\"\n",
    "o7 = \"ffffffffffffffffffffffffffffkjffffffffffffffkiffffffffffffffmlffffffffffffffikfffffffffffffflhffffffffffffffkuffffffffffffffgnffffffffffffffhgffffffffffffffmgffffffffffffffhlfffffffffffffffjffffffffffffffliffffffffffffffijffffffffffffffhufffffffffffffflpffffffffffffffknffffffffffffffjkffffffffffffffioffffffffffffffkhffffffffffffffitffffffffffffffhrffffffffffffffihffffffffffffffimfffffffffffffflqffffffffffffffhpfffffffffffffflrffffffffffffffjqffffffffffffffgmffffffffffffffklffffffffffffffjhfffffffffffffffofffffffffffffffkffffffffffffffmqffffffffffffffkkffffffffffffffhqffffffffffffffmmffffffffffffffiuffffffffffffffmnffffffffffffffksffffffffffffffggffffffffffffffgjffffffffffffffjiffffffffffffffiqffffffffffffffjmffffffffffffffhtffffffffffffffinffffffffffffffmffffffffffffffffuffffffffffffffmifffffffffffffflnffffffffffffffmrfffffffffffffflofffffffffffffffqffffffffffffffgpffffffffffffffgrffffffffffffffhsffffffffffffffjnffffffffffffffjpffffffffffffffhiffffffffffffffiifffffffffffffflgffffffffffffffhoffffffffffffffjlffffffffffffffmufffffffffffffffiffffffffffffffjjffffffffffffffgoffffffffffffffgtffffffffffffffhnffffffffffffffhkffffffffffffffgkffffffffffffffghffffffffffffffisffffffffffffffkrffffffffffffffkgffffffffffffffgfffffffffffffffjfffffffffffffffmpfffffffffffffffrffffffffffffffflffffffffffffffgqffffffffffffffmofffffffffffffflfffffffffffffffmtffffffffffffffllffffffffffffffltffffffffffffffktffffffffffffffjrffffffffffffffhmffffffffffffffkpffffffffffffffmkffffffffffffffipffffffffffffffkoffffffffffffffmjffffffffffffffkffffffffffffffffhffffffffffffffjoffffffffffffffhfffffffffffffffjuffffffffffffffkqffffffffffffffluffffffffffffffhhfffffffffffffflkffffffffffffffglfffffffffffffffsffffffffffffffiffffffffffffffffmffffffffffffffilffffffffffffffhjffffffffffffffgsfffffffffffffflmffffffffffffffftffffffffffffffguffffffffffffffjtffffffffffffffmsffffffffffffffkmffffffffffffffljffffffffffffffjgfffffffffffffflsfffffffffffffffpffffffffffffffgiffffffffffffffmhfffffffffffffffnffffffffffffffirffffffffffffffigfffffffffffffffgffffffffffffffjsff\"\n",
    "o8 = \"fffffffffffffffffffffffffffffffmffffffffffffffjfffffffffffffffigffffffffffffffmpffffffffffffffktffffffffffffffjuffffffffffffffmqffffffffffffffhrffffffffffffffkuffffffffffffffhlffffffffffffffjjffffffffffffffkjfffffffffffffffhfffffffffffffffgffffffffffffffgtffffffffffffffljffffffffffffffkgfffffffffffffffqffffffffffffffflffffffffffffffkfffffffffffffffkhffffffffffffffjsffffffffffffffglffffffffffffffghffffffffffffffhuffffffffffffffkpffffffffffffffgkffffffffffffffhsffffffffffffffliffffffffffffffkrffffffffffffffiuffffffffffffffmfffffffffffffffirfffffffffffffffnffffffffffffffmsffffffffffffffgoffffffffffffffhffffffffffffffflsffffffffffffffijffffffffffffffhkffffffffffffffhjffffffffffffffmufffffffffffffffuffffffffffffffftffffffffffffffgjffffffffffffffihffffffffffffffitfffffffffffffffkffffffffffffffmnffffffffffffffgiffffffffffffffmmffffffffffffffggffffffffffffffipffffffffffffffjkffffffffffffffhoffffffffffffffjofffffffffffffffoffffffffffffffiffffffffffffffffrffffffffffffffmrffffffffffffffjlffffffffffffffjrfffffffffffffflpffffffffffffffgnfffffffffffffflmffffffffffffffiqfffffffffffffflqffffffffffffffltffffffffffffffgffffffffffffffflrffffffffffffffmkffffffffffffffgrffffffffffffffksffffffffffffffisffffffffffffffkiffffffffffffffiiffffffffffffffmjffffffffffffffkkffffffffffffffjqffffffffffffffhmffffffffffffffkqfffffffffffffffpffffffffffffffjhffffffffffffffilffffffffffffffhqffffffffffffffhtffffffffffffffjnfffffffffffffffiffffffffffffffikfffffffffffffflnffffffffffffffjmffffffffffffffinffffffffffffffhpfffffffffffffflgffffffffffffffgqffffffffffffffgpffffffffffffffhhffffffffffffffmlffffffffffffffhgffffffffffffffhnfffffffffffffflkffffffffffffffknfffffffffffffffsffffffffffffffmhffffffffffffffmoffffffffffffffklffffffffffffffgsfffffffffffffflfffffffffffffffmgffffffffffffffmtffffffffffffffllffffffffffffffioffffffffffffffimffffffffffffffjiffffffffffffffkmfffffffffffffflhffffffffffffffjtffffffffffffffkoffffffffffffffguffffffffffffffjgfffffffffffffffjffffffffffffffgmffffffffffffffjpffffffffffffffhiffffffffffffffloffffffffffffffmifffffffffffffflu\"\n",
    "o = [o1, o2, o3, o4, o5, o6, o7, o8]\n",
    "for s in o:\n",
    "    l = []\n",
    "    #print(len(s))\n",
    "    for k in range(len(s)//16):\n",
    "        l.append(s[16*k:16*k+16])\n",
    "    outputs.append(l)\n",
    "#print(outputs)"
   ]
  },
  {
   "cell_type": "code",
   "execution_count": 304,
   "id": "disciplinary-phase",
   "metadata": {},
   "outputs": [
    {
     "name": "stdout",
     "output_type": "stream",
     "text": [
      "[[[27, 84, 84], [], [], [], [], [], [], []], [[], [86, 37, 70], [], [], [], [], [], []], [[], [], [43, 14, 72], [], [], [], [], []], [[], [], [], [9, 12, 6], [], [], [], []], [[], [], [], [], [5, 31, 112], [], [], []], [[], [], [], [], [], [51, 11, 53], [], []], [[], [], [], [], [], [], [27, 66, 70], []], [[], [], [], [], [], [], [], [108, 38, 9]]]\n",
      "[[1, 19, 107], [33, 102, 119], [40, 89, 125], [71, 79, 104], [78, 85, 91], [17, 41, 69], [22, 37, 68], [12, 14, 101]]\n"
     ]
    }
   ],
   "source": [
    "poss_e = [[] for i in range(8)]\n",
    "poss_a = [[[] for i in range(8)] for j in range(8)]\n",
    "\n",
    "for index in range(8):\n",
    "    inps = []\n",
    "    outs = []\n",
    "    for k in range(128):\n",
    "        inps.append(int(text2bin(inputs[index][k][2*index:2*index+2]), 2))\n",
    "        outs.append(int(text2bin(outputs[index][k][2*index:2*index+2]), 2))\n",
    "    for i in range(1, 127):\n",
    "        for j in range(128):\n",
    "            flag = True\n",
    "            for inp, out in zip(inps, outs):\n",
    "                if out != expo(mult(expo(mult(expo(inp, i), j), i), j), i):\n",
    "                    flag = False\n",
    "                    break\n",
    "            if flag:\n",
    "                poss_e[index].append(i)\n",
    "                poss_a[index][index].append(j)\n",
    "print(poss_a)\n",
    "print(poss_e)"
   ]
  },
  {
   "cell_type": "code",
   "execution_count": 305,
   "id": "manufactured-smith",
   "metadata": {},
   "outputs": [
    {
     "name": "stdout",
     "output_type": "stream",
     "text": [
      "[[[84], [], [], [], [], [], [], []], [[115], [70], [], [], [], [], [], []], [[], [28], [43], [], [], [], [], []], [[], [], [13], [12], [], [], [], []], [[], [], [], [112], [112], [], [], []], [[], [], [], [], [111], [11], [], []], [[], [], [], [], [], [95], [27], []], [[], [], [], [], [], [], [], [108, 38, 9]]]\n",
      "[[19], [119], [40], [79], [91], [41], [22], [12, 14, 101]]\n"
     ]
    }
   ],
   "source": [
    "#Can't find a[7][7] and e[7] from this because a[7][6] is 0, making last element of vector independent of the\n",
    "#second last element \n",
    "for index in range(6):\n",
    "    inps = []\n",
    "    outs = []\n",
    "    for k in range(128):\n",
    "        inps.append(int(text2bin(inputs[index][k][2*index:2*index+2]), 2))\n",
    "        outs.append(int(text2bin(outputs[index][k][2*index+2:2*index+4]), 2))\n",
    "    for i in range(128):\n",
    "        for e2, a2 in zip(poss_e[index+1], poss_a[index+1][index+1]):\n",
    "            for e1, a1 in zip(poss_e[index], poss_a[index][index]):\n",
    "                flag = True\n",
    "                for inp, out in zip(inps, outs):\n",
    "                    if out != expo(add(mult(expo(mult(expo(inp, e1), i), e2), a2), mult(expo(mult(expo(inp, e1), a1), e1), i)), e2):\n",
    "                        flag = False\n",
    "                        break\n",
    "                if flag:\n",
    "                    poss_e[index+1] = [e2]\n",
    "                    poss_a[index+1][index+1] = [a2]\n",
    "                    poss_e[index] = [e1]\n",
    "                    poss_a[index][index] = [a1]\n",
    "                    poss_a[index+1][index] = [i]\n",
    "print(poss_a)\n",
    "print(poss_e)"
   ]
  },
  {
   "cell_type": "code",
   "execution_count": 306,
   "id": "otherwise-directory",
   "metadata": {},
   "outputs": [],
   "source": [
    "#We keep the not yet founded values in lower triangle as 0 and make three possibilities because \n",
    "#f a[7][7] and e[7]\n",
    "poss_a1 = [[84, 0, 0, 0, 0, 0, 0, 0],\n",
    "           [115, 70, 0, 0, 0, 0, 0, 0],\n",
    "           [0, 28, 43, 0, 0, 0, 0, 0],\n",
    "           [0, 0, 13, 12, 0, 0, 0, 0],\n",
    "           [0, 0, 0, 112, 112, 0, 0, 0],\n",
    "           [0, 0, 0, 0, 111, 11, 0, 0],\n",
    "           [0, 0, 0, 0, 0, 95, 27, 0], \n",
    "           [0, 0, 0, 0, 0, 0, 0, 108]]\n",
    "poss_e1 = [19, 119, 40, 79, 91, 41, 22, 12]\n",
    "\n",
    "poss_a2= [[84, 0, 0, 0, 0, 0, 0, 0],\n",
    "           [115, 70, 0, 0, 0, 0, 0, 0],\n",
    "           [0, 28, 43, 0, 0, 0, 0, 0],\n",
    "           [0, 0, 13, 12, 0, 0, 0, 0],\n",
    "           [0, 0, 0, 112, 112, 0, 0, 0],\n",
    "           [0, 0, 0, 0, 111, 11, 0, 0],\n",
    "           [0, 0, 0, 0, 0, 95, 27, 0], \n",
    "           [0, 0, 0, 0, 0, 0, 0, 38]]\n",
    "poss_e2= [19, 119, 40, 79, 91, 41, 22, 14]\n",
    "\n",
    "poss_a3=[[84, 0, 0, 0, 0, 0, 0, 0],\n",
    "           [115, 70, 0, 0, 0, 0, 0, 0],\n",
    "           [0, 28, 43, 0, 0, 0, 0, 0],\n",
    "           [0, 0, 13, 12, 0, 0, 0, 0],\n",
    "           [0, 0, 0, 112, 112, 0, 0, 0],\n",
    "           [0, 0, 0, 0, 111, 11, 0, 0],\n",
    "           [0, 0, 0, 0, 0, 95, 27, 0], \n",
    "           [0, 0, 0, 0, 0, 0, 0, 9]]\n",
    "poss_e3= [19, 119, 40, 79, 91, 41, 22, 101]\n",
    "\n",
    "def EAEAE (plaintext1, a, e):\n",
    "    plaintext=[]\n",
    "    for k in range(len(plaintext1)//2):\n",
    "        plaintext.append(int(text2bin(plaintext1[2*k:2*k+2]), 2))\n",
    "    res = [0 for j in range(8)]\n",
    "    for index in range(len(plaintext)):\n",
    "        res[index] = expo(plaintext[index], e[index])\n",
    "    res = matrixProd(a, res)\n",
    "    for index in range(len(plaintext)):\n",
    "        res[index] = expo(res[index], e[index])\n",
    "    res = matrixProd(a, res)\n",
    "    for index in range(len(plaintext)):\n",
    "        res[index] = expo(res[index], e[index])\n",
    "    ans = \"\"\n",
    "    for k in res:\n",
    "        ans = ans + bin2text(format(k, \"08b\"))\n",
    "    return ans"
   ]
  },
  {
   "cell_type": "code",
   "execution_count": 307,
   "id": "accepting-pittsburgh",
   "metadata": {},
   "outputs": [
    {
     "name": "stdout",
     "output_type": "stream",
     "text": [
      "Couldn't find any value for a[7][5]\n",
      "[[84, 0, 0, 0, 0, 0, 0, 0], [115, 70, 0, 0, 0, 0, 0, 0], [9, 28, 43, 0, 0, 0, 0, 0], [0, 23, 13, 12, 0, 0, 0, 0], [0, 0, 0, 112, 112, 0, 0, 0], [0, 0, 0, 43, 111, 11, 0, 0], [0, 0, 0, 0, 3, 95, 27, 0], [0, 0, 0, 0, 0, 0, 0, 108]]\n"
     ]
    }
   ],
   "source": [
    "for k in range(2, 8):\n",
    "    flag2 = False\n",
    "    for m in range(k, 8):\n",
    "        flag1 = False\n",
    "        for i in range(128):\n",
    "            poss_a1[m][m-k] = i\n",
    "            flag = True\n",
    "            for inp, out in zip(inputs[m-k], outputs[m-k]):\n",
    "                if EAEAE(inp, poss_a1, poss_e1)[2*m:2*m+2] != out[2*m:2*m+2]:\n",
    "                        flag = False\n",
    "                        break\n",
    "            if flag:\n",
    "                #print(i)\n",
    "                poss_a1[m][m-k] = i\n",
    "                break\n",
    "            elif i == 127:\n",
    "                poss_a1[m][m-k] = 0\n",
    "                print(\"Couldn't find any value for a[\" + str(m) + \"][\" + str(m-k) + \"]\")\n",
    "                flag1 = True\n",
    "        if flag1:\n",
    "            flag2 = True\n",
    "            break\n",
    "    if flag2:\n",
    "        break\n",
    "print(poss_a1)"
   ]
  },
  {
   "cell_type": "code",
   "execution_count": 308,
   "id": "moved-rally",
   "metadata": {},
   "outputs": [
    {
     "name": "stdout",
     "output_type": "stream",
     "text": [
      "[[84, 0, 0, 0, 0, 0, 0, 0], [115, 70, 0, 0, 0, 0, 0, 0], [9, 28, 43, 0, 0, 0, 0, 0], [124, 23, 13, 12, 0, 0, 0, 0], [97, 42, 0, 112, 112, 0, 0, 0], [24, 44, 31, 43, 111, 11, 0, 0], [16, 120, 19, 101, 3, 95, 27, 0], [77, 13, 94, 26, 18, 67, 0, 38]]\n"
     ]
    }
   ],
   "source": [
    "for k in range(2, 8):\n",
    "    flag2 = False\n",
    "    for m in range(k, 8):\n",
    "        flag1 = False\n",
    "        for i in range(128):\n",
    "            poss_a2[m][m-k] = i\n",
    "            flag = True\n",
    "            for inp, out in zip(inputs[m-k], outputs[m-k]):\n",
    "                if EAEAE(inp, poss_a2, poss_e2)[2*m:2*m+2] != out[2*m:2*m+2]:\n",
    "                        flag = False\n",
    "                        break\n",
    "            if flag:\n",
    "                #print(i)\n",
    "                poss_a2[m][m-k] = i\n",
    "                break\n",
    "            elif i == 127:\n",
    "                poss_a2[m][m-k] = 0\n",
    "                print(\"Couldn't find any value for a[\" + str(m) + \"][\" + str(m-k) + \"]\")\n",
    "                flag1 = True\n",
    "        if flag1:\n",
    "            flag2 = True\n",
    "            break\n",
    "    if flag2:\n",
    "        break\n",
    "print(poss_a2)"
   ]
  },
  {
   "cell_type": "code",
   "execution_count": 309,
   "id": "virgin-learning",
   "metadata": {},
   "outputs": [
    {
     "name": "stdout",
     "output_type": "stream",
     "text": [
      "Couldn't find any value for a[7][5]\n",
      "[[84, 0, 0, 0, 0, 0, 0, 0], [115, 70, 0, 0, 0, 0, 0, 0], [9, 28, 43, 0, 0, 0, 0, 0], [0, 23, 13, 12, 0, 0, 0, 0], [0, 0, 0, 112, 112, 0, 0, 0], [0, 0, 0, 43, 111, 11, 0, 0], [0, 0, 0, 0, 3, 95, 27, 0], [0, 0, 0, 0, 0, 0, 0, 9]]\n"
     ]
    }
   ],
   "source": [
    "for k in range(2, 8):\n",
    "    flag2 = False\n",
    "    for m in range(k, 8):\n",
    "        flag1 = False\n",
    "        for i in range(128):\n",
    "            poss_a3[m][m-k] = i\n",
    "            flag = True\n",
    "            for inp, out in zip(inputs[m-k], outputs[m-k]):\n",
    "                if EAEAE(inp, poss_a3, poss_e3)[2*m:2*m+2] != out[2*m:2*m+2]:\n",
    "                        flag = False\n",
    "                        break\n",
    "            if flag:\n",
    "                #print(i)\n",
    "                poss_a3[m][m-k] = i\n",
    "                break\n",
    "            elif i == 127:\n",
    "                poss_a3[m][m-k] = 0\n",
    "                print(\"Couldn't find any value for a[\" + str(m) + \"][\" + str(m-k) + \"]\")\n",
    "                flag1 = True\n",
    "        if flag1:\n",
    "            flag2 = True\n",
    "            break\n",
    "    if flag2:\n",
    "        break\n",
    "print(poss_a3)"
   ]
  },
  {
   "cell_type": "code",
   "execution_count": 310,
   "id": "stuck-leather",
   "metadata": {},
   "outputs": [],
   "source": [
    "A = poss_a2\n",
    "E = poss_e2"
   ]
  },
  {
   "cell_type": "code",
   "execution_count": 311,
   "id": "interstate-weather",
   "metadata": {},
   "outputs": [],
   "source": [
    "password1 = \"gsjgktimhumninlk\"\n",
    "password2 = \"ipiugsjqllgoimhn\"\n",
    "\n",
    "def decrypt(ciphertext, A, E):\n",
    "    ans = \"\"\n",
    "    for i in range(8):\n",
    "        for j in range(128):\n",
    "            s = bin2text(format(j, \"08b\"))\n",
    "            inp = ans + s + \"f\"*(14-len(ans))\n",
    "            if EAEAE(inp, A, E)[2*i:2*i+2] == ciphertext[2*i:2*i+2]:\n",
    "                ans = ans + s\n",
    "                break\n",
    "    return ans"
   ]
  },
  {
   "cell_type": "code",
   "execution_count": 312,
   "id": "failing-combine",
   "metadata": {},
   "outputs": [
    {
     "data": {
      "text/plain": [
       "'mimnmgmkliltlulqlklmifififififif'"
      ]
     },
     "execution_count": 312,
     "metadata": {},
     "output_type": "execute_result"
    }
   ],
   "source": [
    "password = decrypt(password1, A, E) + decrypt(password2, A, E)\n",
    "password"
   ]
  },
  {
   "cell_type": "code",
   "execution_count": 313,
   "id": "sufficient-application",
   "metadata": {},
   "outputs": [
    {
     "name": "stdout",
     "output_type": "stream",
     "text": [
      "sxqucnokeg000000\n"
     ]
    }
   ],
   "source": [
    "bin_password = text2bin(password)\n",
    "final_password = \"\"\n",
    "for i in range(len(bin_password)//8):\n",
    "    final_password += chr(int(bin_password[8*i:8*i+8], 2))       ## taking ASCII values of each 8 bit from answer(128 bits binary)\n",
    "print(final_password)"
   ]
  },
  {
   "cell_type": "code",
   "execution_count": null,
   "id": "small-double",
   "metadata": {},
   "outputs": [],
   "source": []
  }
 ],
 "metadata": {
  "kernelspec": {
   "display_name": "Python 3",
   "language": "python",
   "name": "python3"
  },
  "language_info": {
   "codemirror_mode": {
    "name": "ipython",
    "version": 3
   },
   "file_extension": ".py",
   "mimetype": "text/x-python",
   "name": "python",
   "nbconvert_exporter": "python",
   "pygments_lexer": "ipython3",
   "version": "3.6.9"
  }
 },
 "nbformat": 4,
 "nbformat_minor": 5
}
