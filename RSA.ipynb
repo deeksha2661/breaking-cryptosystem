{
 "cells": [
  {
   "cell_type": "code",
   "execution_count": 75,
   "metadata": {
    "collapsed": false
   },
   "outputs": [
   ],
   "source": [
    "# We ran this in a Sage kernel in CoCalc which already has fpylll functions in it"
   ]
  },
  {
   "cell_type": "code",
   "execution_count": 76,
   "metadata": {
    "collapsed": false
   },
   "outputs": [
   ],
   "source": [
    "N = 84364443735725034864402554533826279174703893439763343343863260342756678609216895093779263028809246505955647572176682669445270008816481771701417554768871285020442403001649254405058303439906229201909599348669565697534331652019516409514800265887388539283381053937433496994442146419682027649079704982600857517093\n",
    "C = 23701787746829110396789094907319830305538180376427283226295906585301889543996533410539381779684366880970896279018807100530176651625086988655210858554133345906272561027798171440923147960165094891980452757852685707020289384698322665347609905744582248157246932007978339129630067022987966706955482598869800151693\n",
    "e = 5"
   ]
  },
  {
   "cell_type": "code",
   "execution_count": 77,
   "metadata": {
    "collapsed": false
   },
   "outputs": [
   ],
   "source": [
    "def i2c(num):\n",
    "    h = hex(num)[2:]\n",
    "    if(len(h)%2 == 0):\n",
    "        s = \"\"\n",
    "        for i in range(len(h)//2):\n",
    "            s = s + chr(int(h[2*i:2*i+2], 16))\n",
    "        return s\n",
    "    return None\n",
    "\n",
    "def mult(p1,p2):\n",
    "    d1 = len(p1)\n",
    "    d2 = len(p2)\n",
    "    d = d1 + d2 - 1\n",
    "    p = [0]*d\n",
    "    for i in range(d1):\n",
    "        for j in range(d2):\n",
    "            p[i+j] += p1[i]*p2[j]\n",
    "    return p\n",
    "\n",
    "def scale(p,beta):\n",
    "    d = len(p) - 1\n",
    "    return [p[i]*(beta**(d-i)) for i in range(len(p))]\n",
    "\n",
    "def eval(p,x):\n",
    "    d = len(p) - 1\n",
    "    return sum([x**(d-i)*p[i] for i in range(len(p))])"
   ]
  },
  {
   "cell_type": "code",
   "execution_count": 78,
   "metadata": {
    "collapsed": false
   },
   "outputs": [
    {
     "name": "stdout",
     "output_type": "stream",
     "text": [
      "You see a Gold-Bug in one corner. It is the key to a treasure found by\n"
     ]
    }
   ],
   "source": [
    "beta = int(N**0.1)\n",
    "padding = \"596f7520736565206120476f6c642d42756720696e206f6e6520636f726e65722e20497420697320746865206b657920746f206120747265617375726520666f756e64206279\"\n",
    "padding_s = i2c(int(padding, 16))\n",
    "print(padding_s)\n",
    "msg = int(padding, 16)\n",
    "msg = msg << 72\n",
    "p = [1%N,(5*(msg))%N,(10*(msg**2))%N,(10*msg**3)%N,(5*msg**4)%N,((msg**5)-C)%N]\n",
    "lattice = []"
   ]
  },
  {
   "cell_type": "code",
   "execution_count": 79,
   "metadata": {
    "collapsed": false
   },
   "outputs": [
   ],
   "source": [
    "for k in range(2):\n",
    "        for i in range(5):\n",
    "            p1 = [0]*5\n",
    "            p1[-i-1] = beta**i\n",
    "            p2 = [0]*6\n",
    "            p2[-1] = N**(2-k)\n",
    "            p3 = mult(p1,p2)\n",
    "            if k > 0:\n",
    "                p4 = scale(p,beta)\n",
    "                p3 = mult(p3[-5:],p4)\n",
    "            lattice.append(p3)"
   ]
  },
  {
   "cell_type": "code",
   "execution_count": 80,
   "metadata": {
    "collapsed": false
   },
   "outputs": [
   ],
   "source": [
    "lattice1 = Matrix(ZZ, 10)\n",
    "for i in range(10):\n",
    "    for j in range(10):\n",
    "        lattice1[i,j] = lattice[i][9-j]"
   ]
  },
  {
   "cell_type": "code",
   "execution_count": 81,
   "metadata": {
    "collapsed": false
   },
   "outputs": [
    {
     "name": "stdout",
     "output_type": "stream",
     "text": [
      "[(595069740817087294497, 1)]\n"
     ]
    }
   ],
   "source": [
    "lattice1 = lattice1.LLL()\n",
    "b = lattice1[0]\n",
    "p_final = 0\n",
    "P.<x> = PolynomialRing(ZZ)\n",
    "for i in range(10):\n",
    "    p_final = p_f + ((x**i)*b[i])/(beta**i)\n",
    "roots = pf.roots()\n",
    "print(roots)"
   ]
  },
  {
   "cell_type": "code",
   "execution_count": 82,
   "metadata": {
    "collapsed": false
   },
   "outputs": [
    {
     "name": "stdout",
     "output_type": "stream",
     "text": [
      "Password =   B@hubAl!\n"
     ]
    }
   ],
   "source": [
    "print('Password = ',i2c(roots[0][0]))"
   ]
  },
  {
   "cell_type": "code",
   "execution_count": 0,
   "metadata": {
    "collapsed": false
   },
   "outputs": [
   ],
   "source": [
   ]
  },
  {
   "cell_type": "code",
   "execution_count": 0,
   "metadata": {
    "collapsed": false
   },
   "outputs": [
   ],
   "source": [
   ]
  }
 ],
 "metadata": {
  "kernelspec": {
   "display_name": "SageMath 9.2",
   "language": "sagemath",
   "metadata": {
    "cocalc": {
     "description": "Open-source mathematical software system",
     "priority": 10,
     "url": "https://www.sagemath.org/"
    }
   },
   "name": "sage-9.2",
   "resource_dir": "/ext/jupyter/kernels/sage-9.2"
  },
  "language_info": {
   "codemirror_mode": {
    "name": "ipython",
    "version": 3
   },
   "file_extension": ".py",
   "mimetype": "text/x-python",
   "name": "python",
   "nbconvert_exporter": "python",
   "pygments_lexer": "ipython3",
   "version": "3.8.5"
  }
 },
 "nbformat": 4,
 "nbformat_minor": 4
}